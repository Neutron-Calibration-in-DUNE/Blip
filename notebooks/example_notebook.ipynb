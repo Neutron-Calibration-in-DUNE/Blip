{
 "cells": [
  {
   "cell_type": "code",
   "execution_count": null,
   "metadata": {},
   "outputs": [],
   "source": [
    "from blip.programs.notebook import *\n",
    "\n",
    "config = {\n",
    "    # Test config file for Blip\n",
    "    'module': {\n",
    "        'module_name':  'blank_config',\n",
    "        'module_type':  ['tda'],\n",
    "        'module_mode':  ['merge_tree'],\n",
    "        'gpu':          True,\n",
    "        'gpu_device':   0,\n",
    "        'verbose':      False,\n",
    "    },\n",
    "\n",
    "    'dataset': {\n",
    "        'process_simulation': True,\n",
    "        'simulation_type':    'LArSoft',\n",
    "        'simulation_folder':  \"/local_data/dr_sims/\",\n",
    "        'process_type':       ['wire_plane_point_cloud', 'energy_deposit_point_cloud'],\n",
    "        'simulation_files':   [\n",
    "            \"labeling_sim_arrakis.root\",\n",
    "            # \"single_capture_gamma_0.516.0.root\",\n",
    "            # \"single_capture_gamma_0.1673.0.root\",\n",
    "            # \"single_capture_gamma_0.8378.0.root\",\n",
    "            # \"single_capture_gamma_1.1868.0.root\",\n",
    "            # \"single_capture_gamma_2.5661.0.root\",\n",
    "            \"single_capture_gamma_3.3655.0.root\",\n",
    "            \"single_capture_gamma_4.745.0.root\"\n",
    "        ],\n",
    "    },\n",
    "}"
   ]
  },
  {
   "cell_type": "code",
   "execution_count": null,
   "metadata": {},
   "outputs": [],
   "source": [
    "meta = prepare_dataset(config)\n",
    "dataset = meta['dataset']\n",
    "loader = meta['dataset']\n",
    "\n",
    "merge_tree = MergeTree(meta)\n",
    "merge_tree.generate_merge_tree()"
   ]
  }
 ],
 "metadata": {
  "language_info": {
   "name": "python"
  },
  "orig_nbformat": 4
 },
 "nbformat": 4,
 "nbformat_minor": 2
}
