{
 "cells": [
  {
   "cell_type": "code",
   "execution_count": 30,
   "metadata": {},
   "outputs": [
    {
     "ename": "ModuleNotFoundError",
     "evalue": "No module named 'blip'",
     "output_type": "error",
     "traceback": [
      "\u001b[0;31m---------------------------------------------------------------------------\u001b[0m",
      "\u001b[0;31mModuleNotFoundError\u001b[0m                       Traceback (most recent call last)",
      "\u001b[1;32m/home/ncarrara/physics/DUNE/Blip/notebooks/blip_graph_singles.ipynb Cell 1\u001b[0m line \u001b[0;36m4\n\u001b[1;32m      <a href='vscode-notebook-cell:/home/ncarrara/physics/DUNE/Blip/notebooks/blip_graph_singles.ipynb#W0sZmlsZQ%3D%3D?line=0'>1</a>\u001b[0m \u001b[39mimport\u001b[39;00m \u001b[39mnumpy\u001b[39;00m \u001b[39mas\u001b[39;00m \u001b[39mnp\u001b[39;00m\n\u001b[1;32m      <a href='vscode-notebook-cell:/home/ncarrara/physics/DUNE/Blip/notebooks/blip_graph_singles.ipynb#W0sZmlsZQ%3D%3D?line=1'>2</a>\u001b[0m \u001b[39mfrom\u001b[39;00m \u001b[39mmatplotlib\u001b[39;00m \u001b[39mimport\u001b[39;00m pyplot \u001b[39mas\u001b[39;00m plt\n\u001b[0;32m----> <a href='vscode-notebook-cell:/home/ncarrara/physics/DUNE/Blip/notebooks/blip_graph_singles.ipynb#W0sZmlsZQ%3D%3D?line=3'>4</a>\u001b[0m \u001b[39mfrom\u001b[39;00m \u001b[39mblip\u001b[39;00m\u001b[39m.\u001b[39;00m\u001b[39mutils\u001b[39;00m\u001b[39m.\u001b[39;00m\u001b[39mutils\u001b[39;00m \u001b[39mimport\u001b[39;00m \u001b[39m*\u001b[39m\n",
      "\u001b[0;31mModuleNotFoundError\u001b[0m: No module named 'blip'"
     ]
    }
   ],
   "source": [
    "import numpy as np\n",
    "from matplotlib import pyplot as plt\n",
    "\n",
    "from blip.utils.utils import *"
   ]
  },
  {
   "cell_type": "code",
   "execution_count": 41,
   "metadata": {},
   "outputs": [],
   "source": [
    "def plot_tpc(\n",
    "    input_file,\n",
    "    event=0,\n",
    "    view_0=True,\n",
    "    view_1=True,\n",
    "    view_2=True,\n",
    "    edep=True\n",
    "):\n",
    "    f = np.load(input_file,allow_pickle=True)\n",
    "    if edep:\n",
    "        edep_features   = f['edep_features'][event]\n",
    "        edep_classes    = f['edep_classes'][event]\n",
    "        edep_clusters   = f['edep_clusters'][event]\n",
    "    if view_0:\n",
    "        view_0_features = f['view_0_features'][event]\n",
    "        view_0_classes  = f['view_0_classes'][event]\n",
    "        view_0_clusters = f['view_0_clusters'][event]\n",
    "        view_0_hits     = f['view_0_hits'][event]\n",
    "    if view_1:\n",
    "        view_1_features = f['view_1_features'][event]\n",
    "        view_1_classes  = f['view_1_classes'][event]\n",
    "        view_1_clusters = f['view_1_clusters'][event]\n",
    "        view_1_hits     = f['view_1_hits'][event]\n",
    "    if view_2:\n",
    "        view_2_features = f['view_2_features'][event]\n",
    "        view_2_classes  = f['view_2_classes'][event]\n",
    "        view_2_clusters = f['view_2_clusters'][event]\n",
    "        view_2_hits     = f['view_2_hits'][event]\n",
    "\n",
    "    fig = plt.figure(figsize=(20, 10))\n",
    "    gs = fig.add_gridspec(3,2)\n",
    "    u_ax = fig.add_subplot(gs[0,0])\n",
    "    u_ax.set_ylabel('TDC [tick]')\n",
    "    u_ax.set_xlabel('U Plane Channel [#]')\n",
    "    v_ax = fig.add_subplot(gs[1,0])\n",
    "    v_ax.set_ylabel('TDC [tick]')\n",
    "    v_ax.set_xlabel('V Plane Channel [#]')\n",
    "    y_ax = fig.add_subplot(gs[2,0])\n",
    "    y_ax.set_ylabel('TDC [tick]')\n",
    "    y_ax.set_xlabel('Y Plane Channel [#]')\n",
    "    edep_ax = fig.add_subplot(gs[:,1], projection='3d')\n",
    "    edep_ax.set_xlabel('x [mm]')\n",
    "    edep_ax.set_ylabel('z [mm]')\n",
    "    edep_ax.set_zlabel('y [mm]')\n",
    "\n",
    "    if view_0:\n",
    "        u_ax.scatter(\n",
    "            view_0_features[:,0],\n",
    "            view_0_features[:,1]\n",
    "        )\n",
    "    if view_1:\n",
    "        v_ax.scatter(\n",
    "            view_1_features[:,0],\n",
    "            view_1_features[:,1]\n",
    "        )\n",
    "    if view_2:\n",
    "        y_ax.scatter(\n",
    "            view_2_features[:,0],\n",
    "            view_2_features[:,1]\n",
    "        )\n",
    "    if edep:\n",
    "        edep_ax.scatter(\n",
    "            edep_features[:,0],\n",
    "            edep_features[:,2],\n",
    "            edep_features[:,1]\n",
    "        )\n",
    "\n",
    "    plt.show()"
   ]
  },
  {
   "cell_type": "code",
   "execution_count": 42,
   "metadata": {},
   "outputs": [
    {
     "name": "stdout",
     "output_type": "stream",
     "text": [
      "Using matplotlib backend: TkAgg\n"
     ]
    }
   ],
   "source": [
    "%matplotlib\n",
    "\n",
    "plot_tpc(\n",
    "    \"/local_data/data/single_capture_gamma_4.745.0/tpc2.npz\",\n",
    "    event=0, view_0=False, view_1=False, view_2=True, edep=False\n",
    ")"
   ]
  },
  {
   "cell_type": "code",
   "execution_count": null,
   "metadata": {},
   "outputs": [],
   "source": []
  }
 ],
 "metadata": {
  "kernelspec": {
   "display_name": "Python 3",
   "language": "python",
   "name": "python3"
  },
  "language_info": {
   "codemirror_mode": {
    "name": "ipython",
    "version": 3
   },
   "file_extension": ".py",
   "mimetype": "text/x-python",
   "name": "python",
   "nbconvert_exporter": "python",
   "pygments_lexer": "ipython3",
   "version": "3.11.4"
  }
 },
 "nbformat": 4,
 "nbformat_minor": 2
}
